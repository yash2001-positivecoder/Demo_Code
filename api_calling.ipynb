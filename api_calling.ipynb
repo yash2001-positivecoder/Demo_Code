{
 "cells": [
  {
   "cell_type": "code",
   "execution_count": 3,
   "metadata": {},
   "outputs": [],
   "source": [
    "# pip install cohere"
   ]
  },
  {
   "cell_type": "code",
   "execution_count": 10,
   "metadata": {},
   "outputs": [
    {
     "name": "stdout",
     "output_type": "stream",
     "text": [
      "Prediction: It's great that companies are becoming more mindful and aware of climate policies and their impact on the environment. Many companies are now taking initiatives to reduce their carbon footprint and mitigate the environmental impact of their operations. \n",
      "\n",
      "I believe that adopting climate policies in the business world is an important step towards a sustainable future. Companies recognizing and taking responsibility for their environmental impact is an essential part of a holistic approach to environmental conservation. It can help businesses to develop a sense of environmental stewardship and encourage sustainable practices across the industry. \n",
      "\n",
      "However, it is also important that companies are transparent and accountable in their climate policies and actions. Effective and sincere policies and actions need to be in place to ensure that companies are not just paying lip service to environmental initiatives but are genuinely making a positive impact on the environment. \n",
      "\n",
      "Overall, I believe that climate policies in the business world are a positive step forward, encouraging environmental awareness and stewardship, and can contribute significantly to a more sustainable future. \n"
     ]
    }
   ],
   "source": [
    "import cohere\n",
    "co = cohere.Client('1funlkfp7u5B3ed5xuRBX70zZjBYv4oUsFboEgXm')\n",
    "response = co.generate(\n",
    "  model='command-nightly',\n",
    "  prompt='What are your views on climate policies issued by the companies',\n",
    "  max_tokens=300,\n",
    "  temperature=0.9,\n",
    "  k=0,\n",
    "  p=0.75,\n",
    "  stop_sequences=[],\n",
    "  return_likelihoods='NONE')\n",
    "print('Prediction: {}'.format(response.generations[0].text))"
   ]
  },
  {
   "cell_type": "code",
   "execution_count": 11,
   "metadata": {},
   "outputs": [],
   "source": [
    "# pip install -r requirements.txt"
   ]
  },
  {
   "cell_type": "code",
   "execution_count": 16,
   "metadata": {},
   "outputs": [
    {
     "data": {
      "text/plain": [
       "515"
      ]
     },
     "execution_count": 16,
     "metadata": {},
     "output_type": "execute_result"
    }
   ],
   "source": [
    "l=[0.1 for i in range(515)]\n",
    "len(l)"
   ]
  },
  {
   "cell_type": "code",
   "execution_count": 24,
   "metadata": {},
   "outputs": [],
   "source": [
    "l=[0.1 for i in range(514)]\n",
    "data_list=[\n",
    "        {\n",
    "            \"id\": \"vec1\", \n",
    "            \"values\": l, \n",
    "            \"metadata\": {\"genre\": \"drama\"}\n",
    "        }, {\n",
    "            \"id\": \"vec2\", \n",
    "            \"values\": l, \n",
    "            \"metadata\": {\"genre\": \"action\"}\n",
    "        }, {\n",
    "            \"id\": \"vec3\", \n",
    "            \"values\": l, \n",
    "            \"metadata\": {\"genre\": \"drama\"}\n",
    "        }, {\n",
    "            \"id\": \"vec4\", \n",
    "            \"values\": l, \n",
    "            \"metadata\": {\"genre\": \"action\"}\n",
    "        }\n",
    "    ]"
   ]
  },
  {
   "cell_type": "code",
   "execution_count": 4,
   "metadata": {},
   "outputs": [],
   "source": [
    "# pip install pinecone-client"
   ]
  },
  {
   "cell_type": "code",
   "execution_count": 18,
   "metadata": {},
   "outputs": [
    {
     "data": {
      "text/plain": [
       "{'upserted_count': 4}"
      ]
     },
     "execution_count": 18,
     "metadata": {},
     "output_type": "execute_result"
    }
   ],
   "source": [
    "from pinecone import Pinecone\n",
    "\n",
    "pc = Pinecone(api_key=\"06ec76b1-2d72-4972-b10a-a5d88de8dd85\")\n",
    "index = pc.Index(\"climate-gpt\")\n",
    "\n",
    "index.upsert(\n",
    "  vectors=data_list\n",
    ")"
   ]
  },
  {
   "cell_type": "code",
   "execution_count": null,
   "metadata": {},
   "outputs": [],
   "source": []
  },
  {
   "cell_type": "code",
   "execution_count": 25,
   "metadata": {},
   "outputs": [
    {
     "data": {
      "text/plain": [
       "{'upserted_count': 4}"
      ]
     },
     "execution_count": 25,
     "metadata": {},
     "output_type": "execute_result"
    }
   ],
   "source": [
    "from pinecone import Pinecone\n",
    "\n",
    "pc = Pinecone(api_key=\"9b4b7d8f-b9d0-452b-b968-c907e3432f4a\")\n",
    "index = pc.Index(\"climate-gpt\")\n",
    "index.upsert(\n",
    "  vectors=data_list\n",
    ")"
   ]
  },
  {
   "cell_type": "code",
   "execution_count": 23,
   "metadata": {},
   "outputs": [],
   "source": [
    "# index.upsert(\n",
    "#     vectors=[\n",
    "#         {\n",
    "#             \"id\": \"vec1\", \n",
    "#             \"values\": [0.1, 0.1, 0.1, 0.1, 0.1, 0.1, 0.1, 0.1], \n",
    "#             \"metadata\": {\"genre\": \"drama\"}\n",
    "#         }, {\n",
    "#             \"id\": \"vec2\", \n",
    "#             \"values\": [0.2, 0.2, 0.2, 0.2, 0.2, 0.2, 0.2, 0.2], \n",
    "#             \"metadata\": {\"genre\": \"action\"}\n",
    "#         }, {\n",
    "#             \"id\": \"vec3\", \n",
    "#             \"values\": [0.3, 0.3, 0.3, 0.3, 0.3, 0.3, 0.3, 0.3], \n",
    "#             \"metadata\": {\"genre\": \"drama\"}\n",
    "#         }, {\n",
    "#             \"id\": \"vec4\", \n",
    "#             \"values\": [0.4, 0.4, 0.4, 0.4, 0.4, 0.4, 0.4, 0.4], \n",
    "#             \"metadata\": {\"genre\": \"action\"}\n",
    "#         }\n",
    "#     ],\n",
    "#     namespace= \"ns1\"\n",
    "# )"
   ]
  },
  {
   "cell_type": "code",
   "execution_count": null,
   "metadata": {},
   "outputs": [],
   "source": []
  }
 ],
 "metadata": {
  "kernelspec": {
   "display_name": "Python 3",
   "language": "python",
   "name": "python3"
  },
  "language_info": {
   "codemirror_mode": {
    "name": "ipython",
    "version": 3
   },
   "file_extension": ".py",
   "mimetype": "text/x-python",
   "name": "python",
   "nbconvert_exporter": "python",
   "pygments_lexer": "ipython3",
   "version": "3.12.2"
  }
 },
 "nbformat": 4,
 "nbformat_minor": 2
}
